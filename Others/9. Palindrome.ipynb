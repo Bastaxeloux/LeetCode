{
 "cells": [
  {
   "cell_type": "markdown",
   "metadata": {},
   "source": [
    "<font color=\"#009933\" size=\"+4\"> <b> 9. Palindrome Number </b> </font>\n",
    "\n",
    "<font color=#023F7C size=\"+3\"> <b> Easy </b> </font>\n",
    "\n",
    "Given an integer x, return true if x is a palindrome, and false otherwise.\n",
    "\n",
    "**Example 1:**\n",
    "- Input: x = 121\n",
    "- Output: true\n",
    "- *Explanation*: 121 reads as 121 from left to right and from right to left.\n",
    "\n",
    "\n",
    "**Example 2:**\n",
    "- Input: x = -121\n",
    "- Output: false\n",
    "- *Explanation*: From left to right, it reads -121. From right to left, it becomes 121-. Therefore it is not a palindrome.\n",
    "\n",
    "\n",
    "**Example 3:**\n",
    "- Input: x = 10\n",
    "- Output: false\n",
    "- *Explanation*: Reads 01 from right to left. Therefore it is not a palindrome.\n",
    "\n",
    "**Constraints:**\n",
    "- $-2^{31} <= x <= 2^{31}-1$\n",
    "\n",
    "Follow up: Could you solve it without converting the integer to a string?"
   ]
  },
  {
   "cell_type": "code",
   "execution_count": 1,
   "metadata": {},
   "outputs": [],
   "source": [
    "class Solution:\n",
    "    def isPalindrome(self, x: int) -> bool:\n",
    "        cond = False\n",
    "        if x >= 0:\n",
    "            inverse = int(str(x)[::-1])\n",
    "            if inverse == x:\n",
    "                cond = True\n",
    "        return cond"
   ]
  }
 ],
 "metadata": {
  "kernelspec": {
   "display_name": "venv",
   "language": "python",
   "name": "python3"
  },
  "language_info": {
   "codemirror_mode": {
    "name": "ipython",
    "version": 3
   },
   "file_extension": ".py",
   "mimetype": "text/x-python",
   "name": "python",
   "nbconvert_exporter": "python",
   "pygments_lexer": "ipython3",
   "version": "3.11.4"
  }
 },
 "nbformat": 4,
 "nbformat_minor": 2
}
