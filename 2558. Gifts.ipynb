{
 "cells": [
  {
   "cell_type": "markdown",
   "metadata": {},
   "source": [
    "<font color=\"#009933\" size=\"+4\"> <b> 2558. Take Gifts From the Richest Pile </b> </font>\n",
    "\n",
    "<font color=#023F7C size=\"+3\"> <b> Easy </b> </font>\n",
    "\n",
    "You are given an integer array gifts denoting the number of gifts in various piles. Every second, you do the following:\n",
    "* Choose the pile with the maximum number of gifts.\n",
    "* If there is more than one pile with the maximum number of gifts, choose any.\n",
    "* Reduce the number of gifts in the pile to the floor of the square root of the original number of gifts in the pile.\n",
    "* Return the number of gifts remaining after k seconds.\n",
    "\n",
    "**Example 1:**\n",
    "- Input: gifts = [25,64,9,4,100], k = 4\n",
    "- Output: 29\n",
    "- Explanation: The gifts are taken in the following way:\n",
    "    - In the first second, the last pile is chosen and 10 gifts are left behind.\n",
    "    - Then the second pile is chosen and 8 gifts are left behind.\n",
    "    - After that the first pile is chosen and 5 gifts are left behind.\n",
    "    - Finally, the last pile is chosen again and 3 gifts are left behind.\n",
    "- The final remaining gifts are [5,8,9,4,3], so the total number of gifts remaining is 29.\n",
    "\n",
    "**Example 2:**\n",
    "- Input: gifts = [1,1,1,1], k = 4\n",
    "- Output: 4\n",
    "- Explanation: \n",
    "    - In this case, regardless which pile you choose, you have to leave behind 1 gift in each pile. \n",
    "    - That is, you can't take any pile with you. \n",
    "- So, the total gifts remaining are 4.\n",
    "\n",
    "\n",
    "**Constraints:**\n",
    "- 1 <= gifts.length <= $10^3$\n",
    "- 1 <= gifts[i] <= $10^9$\n",
    "- 1 <= k <= $10^3$"
   ]
  },
  {
   "cell_type": "code",
   "execution_count": null,
   "metadata": {},
   "outputs": [],
   "source": [
    "import math\n",
    "\n",
    "class Solution:\n",
    "    def pickGifts(self, gifts: List[int], k: int) -> int:\n",
    "        sorted_gifts = sorted(gifts, reverse=True)\n",
    "        for i in range(k):\n",
    "            sorted_gifts[0] = int(math.sqrt(sorted_gifts[0]))\n",
    "            sorted_gifts = sorted(sorted_gifts, reverse=True)\n",
    "        return (sum(sorted_gifts))"
   ]
  },
  {
   "cell_type": "markdown",
   "metadata": {},
   "source": [
    "Notre solution n'est pas très rapide on en propose donc une autre."
   ]
  },
  {
   "cell_type": "code",
   "execution_count": null,
   "metadata": {},
   "outputs": [],
   "source": [
    "import math\n",
    "import heapq\n",
    "\n",
    "class Solution:\n",
    "    def pickGifts(self, gifts: List[int], k: int) -> int:\n",
    "        sorted_gifts = [-g for g in gifts]\n",
    "        heapq.heapify(sorted_gifts)\n",
    "        for i in range (k):\n",
    "            gift_max = -heapq.heappop(sorted_gifts)\n",
    "            heapq.heappush(sorted_gifts,-int(math.sqrt(gift_max)))\n",
    "        return (-sum(sorted_gifts))"
   ]
  }
 ],
 "metadata": {
  "kernelspec": {
   "display_name": "venv",
   "language": "python",
   "name": "python3"
  },
  "language_info": {
   "name": "python",
   "version": "3.11.4"
  }
 },
 "nbformat": 4,
 "nbformat_minor": 2
}
