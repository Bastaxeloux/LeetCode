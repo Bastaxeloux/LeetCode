{
 "cells": [
  {
   "cell_type": "markdown",
   "metadata": {},
   "source": [
    "<font color=\"#009933\" size=\"+4\"> <b> 3. Longest Substring Without Repeating Characters </b> </font>\n",
    "\n",
    "<font color=#023F7C size=\"+3\"> <b> Medium </b> </font>\n",
    "\n",
    "Given a string s, find the length of the longest substring without repeating characters.\n",
    "\n",
    "**Example 1:**\n",
    "\n",
    "Input: s = \"abcabcbb\"\n",
    "\n",
    "Output: 3\n",
    "\n",
    "*Explanation:* The answer is \"abc\", with the length of 3.\n",
    "\n",
    "\n",
    "**Example 2:**\n",
    "\n",
    "Input: s = \"bbbbb\"\n",
    "\n",
    "Output: 1\n",
    "\n",
    "*Explanation:* The answer is \"b\", with the length of 1.\n",
    "\n",
    "\n",
    "**Example 3:**\n",
    "\n",
    "Input: s = \"pwwkew\"\n",
    "\n",
    "Output: 3\n",
    "\n",
    "*Explanation*: The answer is \"wke\", with the length of 3.\n",
    "\n",
    "Notice that the answer must be a substring, \"pwke\" is a subsequence and not a substring.\n",
    "\n",
    "\n",
    "Constraints:\n",
    "- 0 <= s.length <= 5 * 104\n",
    "- s consists of English letters, digits, symbols and spaces."
   ]
  },
  {
   "cell_type": "code",
   "execution_count": 1,
   "metadata": {},
   "outputs": [],
   "source": [
    "class Solution:\n",
    "    def lengthOfLongestSubstring(self, s: str) -> int:\n",
    "        maxlen = 0\n",
    "        l = len(s)\n",
    "        for i in range (0,l):\n",
    "            j = 0\n",
    "# on va utiliser un dictionnaire, pour stocker les caractères de notre série afin de vérifier qu'on ne les rcroise plus\n",
    "            dico = {}\n",
    "            while (i+j<=l-1 and s[i+j] not in dico):\n",
    "                dico[s[i+j]]=i+j\n",
    "                j+=1\n",
    "            if j > maxlen:\n",
    "                maxlen = j\n",
    "        return maxlen"
   ]
  }
 ],
 "metadata": {
  "kernelspec": {
   "display_name": "venv",
   "language": "python",
   "name": "python3"
  },
  "language_info": {
   "codemirror_mode": {
    "name": "ipython",
    "version": 3
   },
   "file_extension": ".py",
   "mimetype": "text/x-python",
   "name": "python",
   "nbconvert_exporter": "python",
   "pygments_lexer": "ipython3",
   "version": "3.11.4"
  }
 },
 "nbformat": 4,
 "nbformat_minor": 2
}
