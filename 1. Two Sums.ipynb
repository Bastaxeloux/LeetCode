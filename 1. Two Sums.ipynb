{
 "cells": [
  {
   "cell_type": "markdown",
   "metadata": {},
   "source": [
    "<font color=\"#009933\" size=\"+4\"> <b> 1. Two Sums </b> </font>\n",
    "\n",
    "<font color=#023F7C size=\"+3\"> <b> Easy </b> </font>\n",
    "\n",
    "Given an array of integers nums and an integer target, return indices of the two numbers such that they add up to target.\n",
    "\n",
    "You may assume that each input would have exactly one solution, and you may not use the same element twice.\n",
    "\n",
    "You can return the answer in any order.\n",
    "\n",
    "**Example 1:**\n",
    "\n",
    "Input: nums = [2,7,11,15], target = 9\n",
    "\n",
    "Output: [0,1]\n",
    "\n",
    "Explanation: Because nums[0] + nums[1] == 9, we return [0, 1].\n",
    "\n",
    "\n",
    "**Example 2:**\n",
    "\n",
    "Input: nums = [3,2,4], target = 6\n",
    "\n",
    "Output: [1,2]\n",
    "\n",
    "**Example 3:**\n",
    "\n",
    "Input: nums = [3,3], target = 6\n",
    "\n",
    "Output: [0,1]\n",
    "\n",
    "**Constraints:**\n",
    "\n",
    "- 2 <= nums.length <= 104\n",
    "- 109 <= nums[i] <= 109\n",
    "- 109 <= target <= 109\n",
    "- Only one valid answer exists."
   ]
  },
  {
   "cell_type": "code",
   "execution_count": null,
   "metadata": {},
   "outputs": [],
   "source": [
    "# Solution en C++\n",
    "\n",
    "#include <vector>\n",
    "\n",
    "class Solution {\n",
    "public:\n",
    "    vector<int> twoSum(vector<int>& nums, int target) {\n",
    "        bool cond = true;\n",
    "        vector<int> liste;\n",
    "        while (cond) {\n",
    "            for (int i=0;i<nums.size()-1;i++) {\n",
    "                for (int j=i+1;j<nums.size();j++) {\n",
    "                    if (nums[i]+nums[j]==target) {\n",
    "                        liste.push_back(i);\n",
    "                        liste.push_back(j);\n",
    "                        cond=false;\n",
    "                    }\n",
    "                }\n",
    "            }\n",
    "        }\n",
    "        return liste;\n",
    "    }\n",
    "};"
   ]
  }
 ],
 "metadata": {
  "kernelspec": {
   "display_name": "venv",
   "language": "python",
   "name": "python3"
  },
  "language_info": {
   "name": "python",
   "version": "3.11.4"
  }
 },
 "nbformat": 4,
 "nbformat_minor": 2
}
