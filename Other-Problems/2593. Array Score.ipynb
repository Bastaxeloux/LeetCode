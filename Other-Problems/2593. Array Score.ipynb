{
 "cells": [
  {
   "cell_type": "markdown",
   "metadata": {},
   "source": [
    "<font color=\"#009933\" size=\"+4\"> <b> 2593. Find Score of an Array After Marking All Elements </b> </font>\n",
    "\n",
    "<font color=#023F7C size=\"+3\"> <b> Easy </b> </font>\n",
    "\n",
    "You are given an array nums consisting of positive integers.\n",
    "\n",
    "Starting with score = 0, apply the following algorithm:\n",
    "- Choose the smallest integer of the array that is not marked. If there is a tie, choose the one with the smallest index.\n",
    "- Add the value of the chosen integer to score.\n",
    "- Mark the chosen element and its two adjacent elements if they exist.\n",
    "- Repeat until all the array elements are marked.\n",
    "- Return the score you get after applying the above algorithm.\n",
    "\n",
    "\n",
    "**Example 1:**\n",
    "- Input: nums = [2,1,3,4,5,2]\n",
    "- Output: 7\n",
    "- Explanation: We mark the elements as follows:\n",
    "    - 1 is the smallest unmarked element, so we mark it and its two adjacent elements: [2,1,3,4,5,2].\n",
    "    - 2 is the smallest unmarked element, so we mark it and its left adjacent element: [2,1,3,4,5,2].\n",
    "    - 4 is the only remaining unmarked element, so we mark it: [2,1,3,4,5,2].\n",
    "- Our score is 1 + 2 + 4 = 7.\n",
    "\n",
    "**Example 2:**\n",
    "- Input: nums = [2,3,5,1,3,2]\n",
    "- Output: 5\n",
    "- Explanation: We mark the elements as follows:\n",
    "    - 1 is the smallest unmarked element, so we mark it and its two adjacent elements: [2,3,5,1,3,2].\n",
    "    - 2 is the smallest unmarked element, since there are two of them, we choose the left-most one, so we mark the one at index 0 and its right adjacent element: [2,3,5,1,3,2].\n",
    "    - 2 is the only remaining unmarked element, so we mark it: [2,3,5,1,3,2].\n",
    "- Our score is 1 + 2 + 2 = 5.\n",
    "\n",
    "\n",
    "**Constraints:**\n",
    "- 1 <= nums.length <= $10^5$\n",
    "- 1 <= nums[i] <= $10^6$"
   ]
  },
  {
   "cell_type": "code",
   "execution_count": null,
   "metadata": {},
   "outputs": [],
   "source": [
    "import heapq\n",
    "from typing import List\n",
    "\n",
    "class Solution:\n",
    "    def findScore(self, nums: List[int]) -> int:\n",
    "        n = len(nums)\n",
    "        heap = [(nums[i], i) for i in range(n)]  # Crée une heap avec les valeurs et indices\n",
    "        heapq.heapify(heap)  # Transforme la liste en une heap minimale\n",
    "        active = [True] * n  # Table de suivi pour savoir si un indice est actif\n",
    "        score = 0\n",
    "\n",
    "        while heap:\n",
    "            value, idx = heapq.heappop(heap)  # Extraire le minimum\n",
    "            if not active[idx]:  # Ignorer si cet indice a déjà été désactivé\n",
    "                continue\n",
    "            score += value\n",
    "            # Désactiver l'indice et ses voisins\n",
    "            for i in (idx - 1, idx, idx + 1):\n",
    "                if 0 <= i < n:\n",
    "                    active[i] = False  # Désactiver l'indice\n",
    "        return score"
   ]
  },
  {
   "cell_type": "markdown",
   "metadata": {},
   "source": [
    "Runtime (599 ms) - Beats 27.37% : On peut faire mieux."
   ]
  },
  {
   "cell_type": "code",
   "execution_count": null,
   "metadata": {},
   "outputs": [],
   "source": [
    "class Solution:\n",
    "    def findScore(self, nums: List[int]) -> int:\n",
    "        # Trier les indices en fonction des valeurs associées\n",
    "        sorted_indices = sorted(range(len(nums)), key=lambda i: nums[i])\n",
    "        active = [True] * len(nums)  # Garde trace des indices actifs\n",
    "        score = 0\n",
    "\n",
    "        for idx in sorted_indices:\n",
    "            if active[idx]:  # Si l'indice est encore actif\n",
    "                score += nums[idx]  # Ajouter la valeur au score\n",
    "                # Désactiver l'indice et ses voisins\n",
    "                for i in (idx - 1, idx, idx + 1):\n",
    "                    if 0 <= i < len(nums):\n",
    "                        active[i] = False\n",
    "\n",
    "        return score"
   ]
  },
  {
   "cell_type": "markdown",
   "metadata": {},
   "source": [
    "Runtime (202 ms) - Beats 85.13%: On peut encore faire mieux.\n"
   ]
  },
  {
   "cell_type": "code",
   "execution_count": null,
   "metadata": {},
   "outputs": [],
   "source": [
    "class Solution:\n",
    "    def findScore(self, nums: List[int]) -> int:\n",
    "        n = len(nums)\n",
    "        visited = [False]*n\n",
    "        score = 0\n",
    "        for i in sorted(range(n), key=lambda x: nums[x]):\n",
    "            if not visited[i]:\n",
    "                score += nums[i]\n",
    "                if i > 0:\n",
    "                    visited[i - 1] = True\n",
    "                visited[i] = True\n",
    "                if i < n - 1:\n",
    "                    visited[i + 1] = True\n",
    "        return score"
   ]
  },
  {
   "cell_type": "markdown",
   "metadata": {},
   "source": [
    "Runtime (153 ms) - Beats 86.34% : On va s'arreter la !"
   ]
  }
 ],
 "metadata": {
  "kernelspec": {
   "display_name": "venv",
   "language": "python",
   "name": "python3"
  },
  "language_info": {
   "name": "python",
   "version": "3.11.4"
  }
 },
 "nbformat": 4,
 "nbformat_minor": 2
}
